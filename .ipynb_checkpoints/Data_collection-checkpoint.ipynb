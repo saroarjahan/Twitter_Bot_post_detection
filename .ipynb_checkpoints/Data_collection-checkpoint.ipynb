{
 "cells": [
  {
   "cell_type": "code",
   "execution_count": 1,
   "id": "366758c9",
   "metadata": {},
   "outputs": [
    {
     "ename": "ModuleNotFoundError",
     "evalue": "No module named 'stweet'",
     "output_type": "error",
     "traceback": [
      "\u001b[1;31m---------------------------------------------------------------------------\u001b[0m",
      "\u001b[1;31mModuleNotFoundError\u001b[0m                       Traceback (most recent call last)",
      "\u001b[1;32m<ipython-input-1-c231088c1228>\u001b[0m in \u001b[0;36m<module>\u001b[1;34m\u001b[0m\n\u001b[1;32m----> 1\u001b[1;33m \u001b[1;32mimport\u001b[0m \u001b[0mstweet\u001b[0m \u001b[1;32mas\u001b[0m \u001b[0mst\u001b[0m\u001b[1;33m\u001b[0m\u001b[1;33m\u001b[0m\u001b[0m\n\u001b[0m\u001b[0;32m      2\u001b[0m \u001b[1;33m\u001b[0m\u001b[0m\n",
      "\u001b[1;31mModuleNotFoundError\u001b[0m: No module named 'stweet'"
     ]
    }
   ],
   "source": [
    "import stweet as st"
   ]
  },
  {
   "cell_type": "code",
   "execution_count": null,
   "id": "6bb51248",
   "metadata": {},
   "outputs": [],
   "source": [
    "\n",
    "def try_search():\n",
    "    search_tweets_task = st.SearchTweetsTask(all_words='#covid19')\n",
    "    output_jl_tweets = st.JsonLineFileRawOutput('output_raw_search_tweets.jl')\n",
    "    output_jl_users = st.JsonLineFileRawOutput('output_raw_search_users.jl')\n",
    "    output_print = st.PrintRawOutput()\n",
    "    st.TweetSearchRunner(search_tweets_task=search_tweets_task,\n",
    "                         tweet_raw_data_outputs=[output_print, output_jl_tweets],\n",
    "                         user_raw_data_outputs=[output_print, output_jl_users]).run()\n",
    "\n",
    "\n",
    "def try_user_scrap():\n",
    "    user_task = st.GetUsersTask(['iga_swiatek'])\n",
    "    output_json = st.JsonLineFileRawOutput('output_raw_user.jl')\n",
    "    output_print = st.PrintRawOutput()\n",
    "    st.GetUsersRunner(get_user_task=user_task, raw_data_outputs=[output_print, output_json]).run()\n",
    "\n",
    "\n",
    "def try_tweet_by_id_scrap():\n",
    "    id_task = st.TweetsByIdTask('1447348840164564994')\n",
    "    output_json = st.JsonLineFileRawOutput('output_raw_id.jl')\n",
    "    output_print = st.PrintRawOutput()\n",
    "    st.TweetsByIdRunner(tweets_by_id_task=id_task,\n",
    "                        raw_data_outputs=[output_print, output_json]).run()\n",
    "\n"
   ]
  },
  {
   "cell_type": "code",
   "execution_count": null,
   "id": "28f7fb2e",
   "metadata": {},
   "outputs": [],
   "source": [
    "\n",
    "if __name__ == '__main__':\n",
    "    try_search()\n",
    "    try_user_scrap()\n",
    "    try_tweet_by_id_scrap()"
   ]
  }
 ],
 "metadata": {
  "kernelspec": {
   "display_name": "Python 3",
   "language": "python",
   "name": "python3"
  },
  "language_info": {
   "codemirror_mode": {
    "name": "ipython",
    "version": 3
   },
   "file_extension": ".py",
   "mimetype": "text/x-python",
   "name": "python",
   "nbconvert_exporter": "python",
   "pygments_lexer": "ipython3",
   "version": "3.8.8"
  }
 },
 "nbformat": 4,
 "nbformat_minor": 5
}
